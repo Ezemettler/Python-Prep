{
 "cells": [
  {
   "cell_type": "markdown",
   "metadata": {},
   "source": [
    "1) A partir de una lista vacía, utilizar un ciclo while para cargar allí números negativos del -15 al -1"
   ]
  },
  {
   "cell_type": "code",
   "execution_count": 1,
   "metadata": {},
   "outputs": [
    {
     "name": "stdout",
     "output_type": "stream",
     "text": [
      "[-15, -14, -13, -12, -11, -10, -9, -8, -7, -6, -5, -4, -3, -2, -1]\n"
     ]
    }
   ],
   "source": [
    "lista = []\n",
    "n = -15\n",
    "\n",
    "while n < 0:\n",
    "    lista.append(n)\n",
    "    n += 1\n",
    "\n",
    "print(lista)"
   ]
  },
  {
   "cell_type": "markdown",
   "metadata": {},
   "source": [
    "2) ¿Con un ciclo while sería posible recorrer la lista para imprimir sólo los números pares?"
   ]
  },
  {
   "cell_type": "code",
   "execution_count": 16,
   "metadata": {},
   "outputs": [
    {
     "name": "stdout",
     "output_type": "stream",
     "text": [
      "-14\n",
      "-12\n",
      "-10\n",
      "-8\n",
      "-6\n",
      "-4\n",
      "-2\n"
     ]
    }
   ],
   "source": [
    "n = len(lista)\n",
    "indice = 0\n",
    "\n",
    "while n > 0:\n",
    "    if lista[indice] % 2 == 0:\n",
    "        print(lista[indice])\n",
    "        indice += 1\n",
    "        n -= 1\n",
    "    else:\n",
    "        indice += 1\n",
    "        n -= 1\n",
    "        "
   ]
  },
  {
   "cell_type": "markdown",
   "metadata": {},
   "source": [
    "3) Resolver el punto anterior sin utilizar un ciclo while"
   ]
  },
  {
   "cell_type": "code",
   "execution_count": 17,
   "metadata": {},
   "outputs": [
    {
     "name": "stdout",
     "output_type": "stream",
     "text": [
      "-14\n",
      "-12\n",
      "-10\n",
      "-8\n",
      "-6\n",
      "-4\n",
      "-2\n"
     ]
    }
   ],
   "source": [
    "tope_rango = len(lista)\n",
    "\n",
    "for n in range(0,tope_rango):\n",
    "    if lista[n] % 2 == 0:\n",
    "        print(lista[n])"
   ]
  },
  {
   "cell_type": "markdown",
   "metadata": {},
   "source": [
    "4) Utilizar el iterable para recorrer sólo los primeros 3 elementos"
   ]
  },
  {
   "cell_type": "code",
   "execution_count": 18,
   "metadata": {},
   "outputs": [
    {
     "name": "stdout",
     "output_type": "stream",
     "text": [
      "-14\n"
     ]
    }
   ],
   "source": [
    "for n in range(0,2):\n",
    "    if lista[n] % 2 == 0:\n",
    "        print(lista[n])"
   ]
  },
  {
   "cell_type": "markdown",
   "metadata": {},
   "source": [
    "5) Utilizar la función **enumerate** para obtener dentro del iterable, tambien el índice al que corresponde el elemento"
   ]
  },
  {
   "cell_type": "code",
   "execution_count": 33,
   "metadata": {},
   "outputs": [
    {
     "name": "stdout",
     "output_type": "stream",
     "text": [
      "-14 1\n",
      "-12 3\n",
      "-10 5\n",
      "-8 7\n",
      "-6 9\n",
      "-4 11\n",
      "-2 13\n"
     ]
    }
   ],
   "source": [
    "for n, i in enumerate(lista):\n",
    "    if lista[n] % 2 == 0:\n",
    "        print(lista[n], n)"
   ]
  },
  {
   "cell_type": "markdown",
   "metadata": {},
   "source": [
    "6) Dada la siguiente lista de números enteros entre 1 y 20, crear un ciclo donde se completen los valores faltantes: lista = [1,2,5,7,8,10,13,14,15,17,20]\n"
   ]
  },
  {
   "cell_type": "code",
   "execution_count": 57,
   "metadata": {},
   "outputs": [
    {
     "name": "stdout",
     "output_type": "stream",
     "text": [
      "El elemento 1 se encuentra en la lista.\n",
      "El elemento 2 se encuentra en la lista.\n",
      "El elemento 3 fue insertado en la lista.\n",
      "El elemento 4 fue insertado en la lista.\n",
      "El elemento 5 se encuentra en la lista.\n",
      "El elemento 6 fue insertado en la lista.\n",
      "El elemento 7 se encuentra en la lista.\n",
      "El elemento 8 se encuentra en la lista.\n",
      "El elemento 9 fue insertado en la lista.\n",
      "El elemento 10 se encuentra en la lista.\n",
      "El elemento 11 fue insertado en la lista.\n",
      "El elemento 12 fue insertado en la lista.\n",
      "El elemento 13 se encuentra en la lista.\n",
      "El elemento 14 se encuentra en la lista.\n",
      "El elemento 15 se encuentra en la lista.\n",
      "El elemento 16 fue insertado en la lista.\n",
      "El elemento 17 se encuentra en la lista.\n",
      "El elemento 18 fue insertado en la lista.\n",
      "El elemento 19 fue insertado en la lista.\n",
      "El elemento 20 se encuentra en la lista.\n",
      "[1, 2, 3, 4, 5, 6, 7, 8, 9, 10, 11, 12, 13, 14, 15, 16, 17, 18, 19, 20]\n"
     ]
    }
   ],
   "source": [
    "lista = [1,2,5,7,8,10,13,14,15,17,20]\n",
    "n = 0\n",
    "\n",
    "for i in range(1,21):\n",
    "    if (i in lista) == True:\n",
    "        print(\"El elemento\", i,\"se encuentra en la lista.\")\n",
    "        n += 1\n",
    "    else:\n",
    "        lista.insert(n, i)\n",
    "        print(\"El elemento\", i,\"fue insertado en la lista.\")\n",
    "        n += 1\n",
    "\n",
    "print(lista)\n"
   ]
  },
  {
   "cell_type": "markdown",
   "metadata": {},
   "source": [
    "7) La sucesión de Fibonacci es un listado de números que sigue la fórmula: <br>\n",
    "n<sub>0</sub> = 0<br>\n",
    "n<sub>1</sub> = 1<br>\n",
    "n<sub>i</sub> = n<sub>i-1</sub> + n<sub>i-2</sub><br>\n",
    "Crear una lista con los primeros treinta números de la sucesión.<br>"
   ]
  },
  {
   "cell_type": "code",
   "execution_count": 71,
   "metadata": {},
   "outputs": [
    {
     "name": "stdout",
     "output_type": "stream",
     "text": [
      "[0, 1, 1, 2, 3, 5, 8, 13, 21, 34, 55, 89, 144, 233, 377, 610, 987, 1597, 2584, 4181, 6765, 10946, 17711, 28657, 46368, 75025, 121393, 196418, 317811, 514229, 832040]\n"
     ]
    }
   ],
   "source": [
    "lista = [0, 1]\n",
    "elemento_nuevo = 0\n",
    "\n",
    "for i in range(2,31):\n",
    "    elemento_nuevo = lista[i-1]+lista[i-2]\n",
    "    lista.append(elemento_nuevo)\n",
    "\n",
    "print(lista)"
   ]
  }
 ],
 "metadata": {
  "kernelspec": {
   "display_name": "Python 3.10.5 64-bit",
   "language": "python",
   "name": "python3"
  },
  "language_info": {
   "codemirror_mode": {
    "name": "ipython",
    "version": 3
   },
   "file_extension": ".py",
   "mimetype": "text/x-python",
   "name": "python",
   "nbconvert_exporter": "python",
   "pygments_lexer": "ipython3",
   "version": "3.10.5"
  },
  "orig_nbformat": 4,
  "vscode": {
   "interpreter": {
    "hash": "8fa1147434c5c7645ff453cf5a32d0b8543d33e4fc0361dcda3b4b14f6f3f9ac"
   }
  }
 },
 "nbformat": 4,
 "nbformat_minor": 2
}
