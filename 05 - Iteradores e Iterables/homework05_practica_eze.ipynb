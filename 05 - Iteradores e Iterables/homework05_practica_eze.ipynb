{
 "cells": [
  {
   "cell_type": "markdown",
   "metadata": {},
   "source": [
    "1) A partir de una lista vacía, utilizar un ciclo while para cargar allí números negativos del -15 al -1"
   ]
  },
  {
   "cell_type": "code",
   "execution_count": 1,
   "metadata": {},
   "outputs": [
    {
     "name": "stdout",
     "output_type": "stream",
     "text": [
      "[-15, -14, -13, -12, -11, -10, -9, -8, -7, -6, -5, -4, -3, -2, -1]\n"
     ]
    }
   ],
   "source": [
    "lista = []\n",
    "n = -15\n",
    "\n",
    "while n < 0:\n",
    "    lista.append(n)\n",
    "    n += 1\n",
    "\n",
    "print(lista)"
   ]
  },
  {
   "cell_type": "markdown",
   "metadata": {},
   "source": [
    "2) ¿Con un ciclo while sería posible recorrer la lista para imprimir sólo los números pares?"
   ]
  },
  {
   "cell_type": "code",
   "execution_count": 16,
   "metadata": {},
   "outputs": [
    {
     "name": "stdout",
     "output_type": "stream",
     "text": [
      "-14\n",
      "-12\n",
      "-10\n",
      "-8\n",
      "-6\n",
      "-4\n",
      "-2\n"
     ]
    }
   ],
   "source": [
    "n = len(lista)\n",
    "indice = 0\n",
    "\n",
    "while n > 0:\n",
    "    if lista[indice] % 2 == 0:\n",
    "        print(lista[indice])\n",
    "        indice += 1\n",
    "        n -= 1\n",
    "    else:\n",
    "        indice += 1\n",
    "        n -= 1\n",
    "        "
   ]
  },
  {
   "cell_type": "markdown",
   "metadata": {},
   "source": [
    "3) Resolver el punto anterior sin utilizar un ciclo while"
   ]
  },
  {
   "cell_type": "code",
   "execution_count": 17,
   "metadata": {},
   "outputs": [
    {
     "name": "stdout",
     "output_type": "stream",
     "text": [
      "-14\n",
      "-12\n",
      "-10\n",
      "-8\n",
      "-6\n",
      "-4\n",
      "-2\n"
     ]
    }
   ],
   "source": [
    "tope_rango = len(lista)\n",
    "\n",
    "for n in range(0,tope_rango):\n",
    "    if lista[n] % 2 == 0:\n",
    "        print(lista[n])"
   ]
  },
  {
   "cell_type": "markdown",
   "metadata": {},
   "source": [
    "4) Utilizar el iterable para recorrer sólo los primeros 3 elementos"
   ]
  },
  {
   "cell_type": "code",
   "execution_count": 18,
   "metadata": {},
   "outputs": [
    {
     "name": "stdout",
     "output_type": "stream",
     "text": [
      "-14\n"
     ]
    }
   ],
   "source": [
    "for n in range(0,2):\n",
    "    if lista[n] % 2 == 0:\n",
    "        print(lista[n])"
   ]
  },
  {
   "cell_type": "markdown",
   "metadata": {},
   "source": [
    "5) Utilizar la función **enumerate** para obtener dentro del iterable, tambien el índice al que corresponde el elemento"
   ]
  },
  {
   "cell_type": "code",
   "execution_count": 33,
   "metadata": {},
   "outputs": [
    {
     "name": "stdout",
     "output_type": "stream",
     "text": [
      "-14 1\n",
      "-12 3\n",
      "-10 5\n",
      "-8 7\n",
      "-6 9\n",
      "-4 11\n",
      "-2 13\n"
     ]
    }
   ],
   "source": [
    "for n, i in enumerate(lista):\n",
    "    if lista[n] % 2 == 0:\n",
    "        print(lista[n], n)"
   ]
  },
  {
   "cell_type": "markdown",
   "metadata": {},
   "source": [
    "6) Dada la siguiente lista de números enteros entre 1 y 20, crear un ciclo donde se completen los valores faltantes: lista = [1,2,5,7,8,10,13,14,15,17,20]\n"
   ]
  },
  {
   "cell_type": "code",
   "execution_count": 57,
   "metadata": {},
   "outputs": [
    {
     "name": "stdout",
     "output_type": "stream",
     "text": [
      "El elemento 1 se encuentra en la lista.\n",
      "El elemento 2 se encuentra en la lista.\n",
      "El elemento 3 fue insertado en la lista.\n",
      "El elemento 4 fue insertado en la lista.\n",
      "El elemento 5 se encuentra en la lista.\n",
      "El elemento 6 fue insertado en la lista.\n",
      "El elemento 7 se encuentra en la lista.\n",
      "El elemento 8 se encuentra en la lista.\n",
      "El elemento 9 fue insertado en la lista.\n",
      "El elemento 10 se encuentra en la lista.\n",
      "El elemento 11 fue insertado en la lista.\n",
      "El elemento 12 fue insertado en la lista.\n",
      "El elemento 13 se encuentra en la lista.\n",
      "El elemento 14 se encuentra en la lista.\n",
      "El elemento 15 se encuentra en la lista.\n",
      "El elemento 16 fue insertado en la lista.\n",
      "El elemento 17 se encuentra en la lista.\n",
      "El elemento 18 fue insertado en la lista.\n",
      "El elemento 19 fue insertado en la lista.\n",
      "El elemento 20 se encuentra en la lista.\n",
      "[1, 2, 3, 4, 5, 6, 7, 8, 9, 10, 11, 12, 13, 14, 15, 16, 17, 18, 19, 20]\n"
     ]
    }
   ],
   "source": [
    "lista = [1,2,5,7,8,10,13,14,15,17,20]\n",
    "n = 0\n",
    "\n",
    "for i in range(1,21):\n",
    "    if (i in lista) == True:\n",
    "        print(\"El elemento\", i,\"se encuentra en la lista.\")\n",
    "        n += 1\n",
    "    else:\n",
    "        lista.insert(n, i)\n",
    "        print(\"El elemento\", i,\"fue insertado en la lista.\")\n",
    "        n += 1\n",
    "\n",
    "print(lista)\n"
   ]
  },
  {
   "cell_type": "markdown",
   "metadata": {},
   "source": [
    "7) La sucesión de Fibonacci es un listado de números que sigue la fórmula: <br>\n",
    "n<sub>0</sub> = 0<br>\n",
    "n<sub>1</sub> = 1<br>\n",
    "n<sub>i</sub> = n<sub>i-1</sub> + n<sub>i-2</sub><br>\n",
    "Crear una lista con los primeros treinta números de la sucesión.<br>"
   ]
  },
  {
   "cell_type": "code",
   "execution_count": 2,
   "metadata": {},
   "outputs": [
    {
     "name": "stdout",
     "output_type": "stream",
     "text": [
      "[0, 1, 1, 2, 3, 5, 8, 13, 21, 34, 55, 89, 144, 233, 377, 610, 987, 1597, 2584, 4181, 6765, 10946, 17711, 28657, 46368, 75025, 121393, 196418, 317811, 514229, 832040]\n"
     ]
    }
   ],
   "source": [
    "lista = [0, 1]\n",
    "elemento_nuevo = 0\n",
    "\n",
    "for i in range(2,31):\n",
    "    elemento_nuevo = lista[i-1]+lista[i-2]\n",
    "    lista.append(elemento_nuevo)\n",
    "\n",
    "print(lista)"
   ]
  },
  {
   "cell_type": "markdown",
   "metadata": {},
   "source": [
    "8) Realizar la suma de todos elementos de la lista del punto anterior"
   ]
  },
  {
   "cell_type": "code",
   "execution_count": 74,
   "metadata": {},
   "outputs": [
    {
     "name": "stdout",
     "output_type": "stream",
     "text": [
      "2178308\n"
     ]
    }
   ],
   "source": [
    "suma = 0\n",
    "\n",
    "for i in range (0,len(lista)):\n",
    "    suma = suma + lista[i]\n",
    "\n",
    "print(suma)"
   ]
  },
  {
   "cell_type": "markdown",
   "metadata": {},
   "source": [
    "9) La proporción aurea se expresa con una proporción matemática que nace el número irracional Phi= 1,618… que los griegos llamaron número áureo. El cuál se puede aproximar con la sucesión de Fibonacci. Con la lista del ejercicio anterior, imprimir el cociente de los últimos 5 pares de dos números contiguos:<br>\n",
    "Donde i es la cantidad total de elementos<br>\n",
    "n<sub>i-1</sub> / n<sub>i</sub><br>\n",
    "n<sub>i-2</sub> / n<sub>i-1</sub><br>\n",
    "n<sub>i-3</sub> / n<sub>i-2</sub><br>\n",
    "n<sub>i-4</sub> / n<sub>i-3</sub><br>\n",
    "n<sub>i-5</sub> / n<sub>i-4</sub><br>"
   ]
  },
  {
   "cell_type": "code",
   "execution_count": 10,
   "metadata": {},
   "outputs": [
    {
     "name": "stdout",
     "output_type": "stream",
     "text": [
      "1.6180339886704431\n",
      "1.6180339887802426\n",
      "1.618033988738303\n",
      "1.6180339887543225\n",
      "1.6180339887482036\n"
     ]
    }
   ],
   "source": [
    "cociente = 0\n",
    "divisiones = 0\n",
    "\n",
    "for i in range (len(lista)-6, len(lista)):\n",
    "    if divisiones < 5:\n",
    "        cociente = lista[i+1] / lista[i]\n",
    "        divisiones += 1\n",
    "        print(cociente)\n",
    "    else:\n",
    "        break\n"
   ]
  },
  {
   "cell_type": "markdown",
   "metadata": {},
   "source": [
    "10) A partir de la variable cadena ya dada, mostrar en qué posiciones aparece la letra \"n\"<br>\n",
    "cadena = 'Hola Mundo. Esto es una practica del lenguaje de programación Python'\n"
   ]
  },
  {
   "cell_type": "code",
   "execution_count": 24,
   "metadata": {},
   "outputs": [
    {
     "name": "stdout",
     "output_type": "stream",
     "text": [
      "7\n",
      "21\n",
      "39\n",
      "60\n",
      "67\n"
     ]
    }
   ],
   "source": [
    "cadena = 'Hola Mundo. Esto es una practica del lenguaje de programación Python'\n",
    "\n",
    "for i, c in enumerate(cadena):\n",
    "    if c == 'n':\n",
    "        print(i)\n",
    "\n"
   ]
  },
  {
   "cell_type": "markdown",
   "metadata": {},
   "source": [
    "11) Crear un diccionario e imprimir sus claves utilizando un iterador"
   ]
  },
  {
   "cell_type": "code",
   "execution_count": 28,
   "metadata": {},
   "outputs": [
    {
     "name": "stdout",
     "output_type": "stream",
     "text": [
      "Continente\n",
      "Pais\n",
      "Ciudades\n"
     ]
    }
   ],
   "source": [
    "diccionario = {'Continente': ['Africano', 'Americano', 'Asia', 'Europa'],\n",
    "               'Pais':['Argentina', 'EEUU', 'Suiza', 'Brasil', 'Sudafrica'],\n",
    "               'Ciudades':['Buenos Aires', 'New York', 'Berna', 'San Pablo', 'Ciudad del Cabo'],\n",
    "              }\n",
    "\n",
    "for i in diccionario:\n",
    "    print(i)"
   ]
  },
  {
   "cell_type": "markdown",
   "metadata": {},
   "source": [
    "12) Convertir en una lista la variable \"cadena\" del punto 10 y luego recorrerla con un iterador "
   ]
  },
  {
   "cell_type": "code",
   "execution_count": 35,
   "metadata": {},
   "outputs": [
    {
     "name": "stdout",
     "output_type": "stream",
     "text": [
      "H\n",
      "o\n",
      "l\n",
      "a\n",
      " \n",
      "M\n",
      "u\n",
      "n\n",
      "d\n",
      "o\n",
      ".\n",
      " \n",
      "E\n",
      "s\n",
      "t\n",
      "o\n",
      " \n",
      "e\n",
      "s\n",
      " \n",
      "u\n",
      "n\n",
      "a\n",
      " \n",
      "p\n",
      "r\n",
      "a\n",
      "c\n",
      "t\n",
      "i\n",
      "c\n",
      "a\n",
      " \n",
      "d\n",
      "e\n",
      "l\n",
      " \n",
      "l\n",
      "e\n",
      "n\n",
      "g\n",
      "u\n",
      "a\n",
      "j\n",
      "e\n",
      " \n",
      "d\n",
      "e\n",
      " \n",
      "p\n",
      "r\n",
      "o\n",
      "g\n",
      "r\n",
      "a\n",
      "m\n",
      "a\n",
      "c\n",
      "i\n",
      "ó\n",
      "n\n",
      " \n",
      "P\n",
      "y\n",
      "t\n",
      "h\n",
      "o\n",
      "n\n"
     ]
    }
   ],
   "source": [
    "lista = list(cadena)\n",
    "\n",
    "for i in range(0, len(lista)):\n",
    "    print(lista[i])"
   ]
  },
  {
   "cell_type": "markdown",
   "metadata": {},
   "source": [
    "13) Crear dos listas y unirlas en una tupla utilizando la función zip"
   ]
  },
  {
   "cell_type": "code",
   "execution_count": 39,
   "metadata": {},
   "outputs": [
    {
     "name": "stdout",
     "output_type": "stream",
     "text": [
      "<class 'tuple'>\n",
      "((1, 'a'), (2, 'b'), (3, 'c'), (4, 'd'), (5, 'e'))\n"
     ]
    }
   ],
   "source": [
    "lista_numeros = [1, 2, 3, 4, 5]\n",
    "lista_letras = ['a', 'b', 'c', 'd', 'e']\n",
    "\n",
    "tupla_zip = tuple(zip(lista_numeros, lista_letras))\n",
    "\n",
    "print(type(tupla_zip))\n",
    "print(tupla_zip)"
   ]
  },
  {
   "cell_type": "markdown",
   "metadata": {},
   "source": [
    "14) A partir de la siguiente lista de números, crear una nueva sólo si el número es divisible por 7<br>\n",
    "lis = [18,21,29,32,35,42,56,60,63,71,84,90,91,100]"
   ]
  },
  {
   "cell_type": "code",
   "execution_count": 46,
   "metadata": {},
   "outputs": [
    {
     "name": "stdout",
     "output_type": "stream",
     "text": [
      "[21, 35, 42, 56, 63, 84, 91]\n"
     ]
    }
   ],
   "source": [
    "lis = [18,21,29,32,35,42,56,60,63,71,84,90,91,100]\n",
    "lista_nueva = []\n",
    "\n",
    "for i in range(0, len(lis)):\n",
    "    if (lis[i])%7 == 0:\n",
    "        lista_nueva.append(lis[i])\n",
    "    else:\n",
    "        continue\n",
    "\n",
    "print(lista_nueva)"
   ]
  }
 ],
 "metadata": {
  "kernelspec": {
   "display_name": "Python 3.10.5 64-bit",
   "language": "python",
   "name": "python3"
  },
  "language_info": {
   "codemirror_mode": {
    "name": "ipython",
    "version": 3
   },
   "file_extension": ".py",
   "mimetype": "text/x-python",
   "name": "python",
   "nbconvert_exporter": "python",
   "pygments_lexer": "ipython3",
   "version": "3.10.5"
  },
  "orig_nbformat": 4,
  "vscode": {
   "interpreter": {
    "hash": "8fa1147434c5c7645ff453cf5a32d0b8543d33e4fc0361dcda3b4b14f6f3f9ac"
   }
  }
 },
 "nbformat": 4,
 "nbformat_minor": 2
}
