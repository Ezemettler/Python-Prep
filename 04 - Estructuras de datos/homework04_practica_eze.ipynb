{
 "cells": [
  {
   "cell_type": "markdown",
   "metadata": {},
   "source": [
    "1) Crear una lista que contenga nombres de ciudades del mundo que contenga más de 5 elementos e imprimir por pantalla"
   ]
  },
  {
   "cell_type": "code",
   "execution_count": 20,
   "metadata": {},
   "outputs": [
    {
     "name": "stdout",
     "output_type": "stream",
     "text": [
      "['Buenos Aires', 'Montevideo', 'Rio de Janeiro', 'Santiago de Chile', 'Bogota', 'Lima']\n"
     ]
    }
   ],
   "source": [
    "ciudades = ['Buenos Aires', 'Montevideo', 'Rio de Janeiro', 'Santiago de Chile', 'Bogota', 'Lima']\n",
    "\n",
    "print(ciudades)\n"
   ]
  },
  {
   "cell_type": "markdown",
   "metadata": {},
   "source": [
    "2) Imprimir por pantalla el segundo elemento de la lista"
   ]
  },
  {
   "cell_type": "code",
   "execution_count": 4,
   "metadata": {},
   "outputs": [
    {
     "name": "stdout",
     "output_type": "stream",
     "text": [
      "Montevideo\n"
     ]
    }
   ],
   "source": [
    "print(ciudades[1])"
   ]
  },
  {
   "cell_type": "markdown",
   "metadata": {},
   "source": [
    "3) Imprimir por pantalla del segundo al cuarto elemento"
   ]
  },
  {
   "cell_type": "code",
   "execution_count": 17,
   "metadata": {},
   "outputs": [
    {
     "name": "stdout",
     "output_type": "stream",
     "text": [
      "['Montevideo', 'Rio de Janeiro', 'Santiago de Chile']\n"
     ]
    }
   ],
   "source": [
    "print(ciudades[1:4])"
   ]
  },
  {
   "cell_type": "markdown",
   "metadata": {},
   "source": [
    "4) Visualizar el tipo de dato de la lista"
   ]
  },
  {
   "cell_type": "code",
   "execution_count": 16,
   "metadata": {},
   "outputs": [
    {
     "data": {
      "text/plain": [
       "list"
      ]
     },
     "execution_count": 16,
     "metadata": {},
     "output_type": "execute_result"
    }
   ],
   "source": [
    "type(ciudades)"
   ]
  },
  {
   "cell_type": "markdown",
   "metadata": {},
   "source": [
    "5) Visualizar todos los elementos de la lista a partir del tercero de manera genérica, es decir, sin explicitar la posición del último elemento"
   ]
  },
  {
   "cell_type": "code",
   "execution_count": 18,
   "metadata": {},
   "outputs": [
    {
     "name": "stdout",
     "output_type": "stream",
     "text": [
      "['Rio de Janeiro', 'Santiago de Chile', 'Bogota', 'Lima']\n"
     ]
    }
   ],
   "source": [
    "print(ciudades[2:])"
   ]
  },
  {
   "cell_type": "markdown",
   "metadata": {},
   "source": [
    "6) Visualizar los primeros 4 elementos de la lista"
   ]
  },
  {
   "cell_type": "code",
   "execution_count": 19,
   "metadata": {},
   "outputs": [
    {
     "name": "stdout",
     "output_type": "stream",
     "text": [
      "['Buenos Aires', 'Montevideo', 'Rio de Janeiro', 'Santiago de Chile']\n"
     ]
    }
   ],
   "source": [
    "print(ciudades[0:4])"
   ]
  },
  {
   "cell_type": "markdown",
   "metadata": {},
   "source": [
    "7) Agregar una ciudad más a la lista que ya exista y otra que no ¿Arroja algún tipo de error?"
   ]
  },
  {
   "cell_type": "code",
   "execution_count": 21,
   "metadata": {},
   "outputs": [
    {
     "name": "stdout",
     "output_type": "stream",
     "text": [
      "['Buenos Aires', 'Montevideo', 'Rio de Janeiro', 'Santiago de Chile', 'Bogota', 'Lima', 'Lima']\n"
     ]
    }
   ],
   "source": [
    "ciudades.append('Lima')\n",
    "print(ciudades)"
   ]
  },
  {
   "cell_type": "markdown",
   "metadata": {},
   "source": [
    "8) Agregar otra ciudad, pero en la cuarta posición"
   ]
  },
  {
   "cell_type": "code",
   "execution_count": 22,
   "metadata": {},
   "outputs": [
    {
     "name": "stdout",
     "output_type": "stream",
     "text": [
      "['Buenos Aires', 'Montevideo', 'Rio de Janeiro', 'Caracas', 'Santiago de Chile', 'Bogota', 'Lima', 'Lima']\n"
     ]
    }
   ],
   "source": [
    "ciudades.insert(3, 'Caracas')\n",
    "print(ciudades)"
   ]
  },
  {
   "cell_type": "markdown",
   "metadata": {},
   "source": [
    "9) Concatenar otra lista a la ya creada"
   ]
  },
  {
   "cell_type": "code",
   "execution_count": 23,
   "metadata": {},
   "outputs": [
    {
     "name": "stdout",
     "output_type": "stream",
     "text": [
      "['Buenos Aires', 'Montevideo', 'Rio de Janeiro', 'Caracas', 'Santiago de Chile', 'Bogota', 'Lima', 'Lima', 'New York', 'Paris', 'Berlin']\n"
     ]
    }
   ],
   "source": [
    "ciudades2 = ['New York', 'Paris', 'Berlin']\n",
    "\n",
    "ciudades.extend(ciudades2)\n",
    "\n",
    "print(ciudades)"
   ]
  },
  {
   "cell_type": "markdown",
   "metadata": {},
   "source": [
    "10) Encontrar el índice de la ciudad que en el punto 7 agregamos duplicada. ¿Se nota alguna particularidad?"
   ]
  },
  {
   "cell_type": "code",
   "execution_count": 24,
   "metadata": {},
   "outputs": [
    {
     "name": "stdout",
     "output_type": "stream",
     "text": [
      "6\n"
     ]
    }
   ],
   "source": [
    "print(ciudades.index('Lima'))"
   ]
  },
  {
   "cell_type": "markdown",
   "metadata": {},
   "source": [
    "11) ¿Qué pasa si se busca un elemento que no existe?"
   ]
  },
  {
   "cell_type": "code",
   "execution_count": 26,
   "metadata": {},
   "outputs": [
    {
     "ename": "ValueError",
     "evalue": "'Rosario' is not in list",
     "output_type": "error",
     "traceback": [
      "\u001b[1;31m---------------------------------------------------------------------------\u001b[0m",
      "\u001b[1;31mValueError\u001b[0m                                Traceback (most recent call last)",
      "Cell \u001b[1;32mIn [26], line 1\u001b[0m\n\u001b[1;32m----> 1\u001b[0m \u001b[38;5;28mprint\u001b[39m(ciudades\u001b[38;5;241m.\u001b[39mindex(\u001b[38;5;124m'\u001b[39m\u001b[38;5;124mRosario\u001b[39m\u001b[38;5;124m'\u001b[39m))\n",
      "\u001b[1;31mValueError\u001b[0m: 'Rosario' is not in list"
     ]
    }
   ],
   "source": [
    "print(ciudades.index('Rosario'))"
   ]
  },
  {
   "cell_type": "markdown",
   "metadata": {},
   "source": [
    "12) Eliminar un elemento de la lista"
   ]
  },
  {
   "cell_type": "code",
   "execution_count": 25,
   "metadata": {},
   "outputs": [
    {
     "name": "stdout",
     "output_type": "stream",
     "text": [
      "['Buenos Aires', 'Montevideo', 'Rio de Janeiro', 'Caracas', 'Santiago de Chile', 'Bogota', 'Lima', 'New York', 'Paris', 'Berlin']\n"
     ]
    }
   ],
   "source": [
    "ciudades.remove('Lima')\n",
    "print(ciudades)"
   ]
  },
  {
   "cell_type": "markdown",
   "metadata": {},
   "source": [
    "13) ¿Qué pasa si el elemento a eliminar no existe?"
   ]
  },
  {
   "cell_type": "code",
   "execution_count": 28,
   "metadata": {},
   "outputs": [
    {
     "ename": "ValueError",
     "evalue": "list.remove(x): x not in list",
     "output_type": "error",
     "traceback": [
      "\u001b[1;31m---------------------------------------------------------------------------\u001b[0m",
      "\u001b[1;31mValueError\u001b[0m                                Traceback (most recent call last)",
      "Cell \u001b[1;32mIn [28], line 1\u001b[0m\n\u001b[1;32m----> 1\u001b[0m ciudades\u001b[38;5;241m.\u001b[39mremove(\u001b[38;5;124m'\u001b[39m\u001b[38;5;124mRosario\u001b[39m\u001b[38;5;124m'\u001b[39m)\n",
      "\u001b[1;31mValueError\u001b[0m: list.remove(x): x not in list"
     ]
    }
   ],
   "source": [
    "ciudades.remove('Rosario')"
   ]
  },
  {
   "cell_type": "markdown",
   "metadata": {},
   "source": [
    "14) Extraer el último elemento de la lista, guardarlo en una variable e imprimirlo"
   ]
  },
  {
   "cell_type": "code",
   "execution_count": 26,
   "metadata": {},
   "outputs": [
    {
     "name": "stdout",
     "output_type": "stream",
     "text": [
      "Berlin\n"
     ]
    }
   ],
   "source": [
    "ultimo = ciudades.pop()\n",
    "print(ultimo)"
   ]
  },
  {
   "cell_type": "markdown",
   "metadata": {},
   "source": [
    "15) Mostrar la lista multiplicada por 4"
   ]
  },
  {
   "cell_type": "code",
   "execution_count": 32,
   "metadata": {},
   "outputs": [
    {
     "name": "stdout",
     "output_type": "stream",
     "text": [
      "['Buenos Aires', 'Montevideo', 'Rio de Janeiro', 'Caracas', 'Santiago de Chile', 'Bogota', 'Lima', 'New York', 'Paris', 'Buenos Aires', 'Montevideo', 'Rio de Janeiro', 'Caracas', 'Santiago de Chile', 'Bogota', 'Lima', 'New York', 'Paris', 'Buenos Aires', 'Montevideo', 'Rio de Janeiro', 'Caracas', 'Santiago de Chile', 'Bogota', 'Lima', 'New York', 'Paris', 'Buenos Aires', 'Montevideo', 'Rio de Janeiro', 'Caracas', 'Santiago de Chile', 'Bogota', 'Lima', 'New York', 'Paris']\n"
     ]
    }
   ],
   "source": [
    "print(ciudades * 4)"
   ]
  },
  {
   "cell_type": "markdown",
   "metadata": {},
   "source": [
    "16) Crear una tupla que contenga los números enteros del 1 al 20"
   ]
  },
  {
   "cell_type": "code",
   "execution_count": 17,
   "metadata": {},
   "outputs": [],
   "source": [
    "tupla = (1,2,3,4,5,6,7,8,9,10,11,12,13,14,15,16,17,18,19,20)\n"
   ]
  },
  {
   "cell_type": "markdown",
   "metadata": {},
   "source": [
    "17) Imprimir desde el índice 10 al 15 de la tupla"
   ]
  },
  {
   "cell_type": "code",
   "execution_count": 18,
   "metadata": {},
   "outputs": [
    {
     "name": "stdout",
     "output_type": "stream",
     "text": [
      "(11, 12, 13, 14, 15, 16)\n"
     ]
    }
   ],
   "source": [
    "print(tupla[10:16])     "
   ]
  },
  {
   "cell_type": "markdown",
   "metadata": {},
   "source": [
    "18) Evaluar si los números 20 y 30 están dentro de la tupla"
   ]
  },
  {
   "cell_type": "code",
   "execution_count": 19,
   "metadata": {},
   "outputs": [
    {
     "name": "stdout",
     "output_type": "stream",
     "text": [
      "True\n",
      "False\n"
     ]
    }
   ],
   "source": [
    "print(20 in tupla)\n",
    "print(30 in tupla)"
   ]
  },
  {
   "cell_type": "markdown",
   "metadata": {},
   "source": [
    "19) Con la lista creada en el punto 1, validar la existencia del elemento 'París' y si no existe, agregarlo. Utilizar una variable e informar lo sucedido."
   ]
  },
  {
   "cell_type": "code",
   "execution_count": 37,
   "metadata": {},
   "outputs": [
    {
     "name": "stdout",
     "output_type": "stream",
     "text": [
      "El elemento Paris ya existe en la lista.\n",
      "['Buenos Aires', 'Montevideo', 'Rio de Janeiro', 'Caracas', 'Santiago de Chile', 'Bogota', 'Lima', 'New York', 'Paris']\n"
     ]
    }
   ],
   "source": [
    "elemento = 'Paris'\n",
    "\n",
    "if (elemento in ciudades)==True:\n",
    "    print(\"El elemento\", elemento, \"ya existe en la lista.\")\n",
    "else:\n",
    "    ciudades.append(elemento)\n",
    "    print(\"El elemento fue agregado en la lista.\")\n",
    "\n",
    "print(ciudades)"
   ]
  },
  {
   "cell_type": "markdown",
   "metadata": {},
   "source": [
    "20) Mostrar la cantidad de veces que se encuentra un elemento específico dentro de la tupla y de la lista"
   ]
  },
  {
   "cell_type": "code",
   "execution_count": 11,
   "metadata": {},
   "outputs": [
    {
     "name": "stdout",
     "output_type": "stream",
     "text": [
      "El elemento 'Lima' se encontró 3 veces en la lista.\n"
     ]
    }
   ],
   "source": [
    "ciudades = ['Buenos Aires', 'Lima', 'Montevideo', 'Rio de Janeiro', 'Santiago de Chile', 'Bogota', 'Lima', 'Lima']\n",
    "cont = 0\n",
    "\n",
    "for i in ciudades:\n",
    "    if i == 'Lima':\n",
    "        cont += 1\n",
    "\n",
    "print(\"El elemento 'Lima' se encontró\", cont, \"veces en la lista.\")\n"
   ]
  },
  {
   "cell_type": "code",
   "execution_count": 39,
   "metadata": {},
   "outputs": [
    {
     "name": "stdout",
     "output_type": "stream",
     "text": [
      "5\n",
      "2\n"
     ]
    }
   ],
   "source": [
    "ciudades = ['Buenos Aires', 'Lima', 'Montevideo', 'Rio de Janeiro', 'Santiago de Chile', 'Bogota', 'Lima']\n",
    "tupla_2 = (1,2,3,4,5,6,7,8,9,10,10,10,10,10)\n",
    "\n",
    "print(tupla_2.count(10))\n",
    "print(ciudades.count('Lima'))"
   ]
  },
  {
   "cell_type": "markdown",
   "metadata": {},
   "source": [
    "21) Convertir la tupla en una lista"
   ]
  },
  {
   "cell_type": "code",
   "execution_count": 41,
   "metadata": {},
   "outputs": [
    {
     "name": "stdout",
     "output_type": "stream",
     "text": [
      "<class 'tuple'>\n",
      "('elem1', 'elem2', 'elem3')\n",
      "<class 'list'>\n",
      "['elem1', 'elem2', 'elem3']\n"
     ]
    }
   ],
   "source": [
    "tupla = ('elem1', 'elem2', 'elem3')\n",
    "print(type(tupla))\n",
    "print(tupla)\n",
    "\n",
    "lista_nueva = list(tupla)\n",
    "print(type(lista_nueva))\n",
    "print(lista_nueva)\n",
    "\n"
   ]
  },
  {
   "cell_type": "markdown",
   "metadata": {},
   "source": [
    "22) Desempaquetar solo los primeros 3 elementos de la tupla en 3 variables"
   ]
  },
  {
   "cell_type": "code",
   "execution_count": 6,
   "metadata": {},
   "outputs": [
    {
     "name": "stdout",
     "output_type": "stream",
     "text": [
      "elem1\n",
      "elem2\n",
      "elem3\n"
     ]
    }
   ],
   "source": [
    "tupla = ('elem1', 'elem2', 'elem3')\n",
    "\n",
    "elem1, elem2, elem3 = tupla\n",
    "\n",
    "print(elem1)\n",
    "print(elem2)\n",
    "print(elem3)"
   ]
  },
  {
   "cell_type": "markdown",
   "metadata": {},
   "source": [
    "23) Crear un diccionario utilizando la lista crada en el punto 1, asignandole la clave \"ciudad\". Agregar tambien otras claves, como puede ser \"Pais\" y \"Continente\".\n"
   ]
  },
  {
   "cell_type": "code",
   "execution_count": 8,
   "metadata": {},
   "outputs": [
    {
     "name": "stdout",
     "output_type": "stream",
     "text": [
      "{'Ciudades': ['Buenos Aires', 'Montevideo', 'Rio de Janeiro', 'Santiago de Chile', 'Bogota', 'Lima'], 'Pais': 'Argentina', 'Continente': 'Americano'}\n"
     ]
    }
   ],
   "source": [
    "ciudades = ['Buenos Aires', 'Montevideo', 'Rio de Janeiro', 'Santiago de Chile', 'Bogota', 'Lima']\n",
    "\n",
    "mi_diccionario = {'Ciudades':ciudades, 'Pais':'Argentina', 'Continente':'Americano'}\n",
    "\n",
    "print(mi_diccionario)"
   ]
  },
  {
   "cell_type": "markdown",
   "metadata": {},
   "source": [
    "24) Imprimir las claves del diccionario"
   ]
  },
  {
   "cell_type": "code",
   "execution_count": 12,
   "metadata": {},
   "outputs": [
    {
     "name": "stdout",
     "output_type": "stream",
     "text": [
      "dict_keys(['Ciudades', 'Pais', 'Continente'])\n"
     ]
    }
   ],
   "source": [
    "print(mi_diccionario.keys())"
   ]
  },
  {
   "cell_type": "markdown",
   "metadata": {},
   "source": [
    "25) Imprimir las ciudades a través de su clave"
   ]
  },
  {
   "cell_type": "code",
   "execution_count": 43,
   "metadata": {},
   "outputs": [
    {
     "name": "stdout",
     "output_type": "stream",
     "text": [
      "Argentina\n",
      "Americano\n",
      "['Buenos Aires', 'Montevideo', 'Rio de Janeiro', 'Santiago de Chile', 'Bogota', 'Lima']\n"
     ]
    }
   ],
   "source": [
    "print(mi_diccionario['Pais'])\n",
    "\n",
    "print(mi_diccionario['Continente'])\n",
    "\n",
    "print(mi_diccionario['Ciudades'])"
   ]
  },
  {
   "cell_type": "code",
   "execution_count": 14,
   "metadata": {},
   "outputs": [
    {
     "name": "stdout",
     "output_type": "stream",
     "text": [
      "None\n"
     ]
    }
   ],
   "source": [
    "'''\n",
    "from audioop import reverse\n",
    "\n",
    "\n",
    "def OrdenarDiccionario(diccionario_par, clave, descendente=True):\n",
    "    if type(diccionario_par) != dict or clave not in diccionario_par:\n",
    "        return None\n",
    "    else:\n",
    "        if descendente==True:\n",
    "            diccionario_ordenado = {clave: sorted(v) for clave, v in diccionario_par.items()}\n",
    "        else:\n",
    "            \n",
    "\n",
    "    return diccionario_ordenado\n",
    "'''\n",
    "\n",
    "dicc = {'clave1':['c','a','b'],\n",
    "        'clave2':['casa','auto','barco'],\n",
    "        'clave3':[1,2,3]\n",
    "        }\n",
    "\n",
    "\n",
    "\n",
    "\n",
    "\n",
    "#OrdenarDiccionario(dicc, 'clave1') \n",
    "\n",
    "\n",
    "\n"
   ]
  },
  {
   "cell_type": "code",
   "execution_count": 39,
   "metadata": {},
   "outputs": [
    {
     "name": "stdout",
     "output_type": "stream",
     "text": [
      "[1, 2, 3, [4, 5], 6, [7]]\n"
     ]
    }
   ],
   "source": [
    "def ListaDeListas(lista):\n",
    "\n",
    "    lista_nueva = []\n",
    "\n",
    "    if type(lista) != list:\n",
    "        return None\n",
    "    else:\n",
    "        for i in lista:\n",
    "            if type(i) != list:\n",
    "                lista_nueva.append(i)\n",
    "            else:\n",
    "                for x in i:\n",
    "                    if type(x) != list:\n",
    "                        lista_nueva.append(x)\n",
    "                    else:\n",
    "                        for q in x\n",
    "\n",
    "    # armar con un while, hasta que no haya elementos listas no salga\n",
    "    \n",
    "                \n",
    "                    \n",
    "\n",
    "\n",
    "    return lista_nueva          \n",
    "\n",
    "\n",
    "lista_parametro = [1,[2,3],[[4,5],6],[[7]]]\n",
    "print(ListaDeListas(lista_parametro))\n",
    "\n",
    "\n"
   ]
  }
 ],
 "metadata": {
  "kernelspec": {
   "display_name": "Python 3.10.5 64-bit",
   "language": "python",
   "name": "python3"
  },
  "language_info": {
   "codemirror_mode": {
    "name": "ipython",
    "version": 3
   },
   "file_extension": ".py",
   "mimetype": "text/x-python",
   "name": "python",
   "nbconvert_exporter": "python",
   "pygments_lexer": "ipython3",
   "version": "3.10.5"
  },
  "orig_nbformat": 4,
  "vscode": {
   "interpreter": {
    "hash": "8fa1147434c5c7645ff453cf5a32d0b8543d33e4fc0361dcda3b4b14f6f3f9ac"
   }
  }
 },
 "nbformat": 4,
 "nbformat_minor": 2
}
