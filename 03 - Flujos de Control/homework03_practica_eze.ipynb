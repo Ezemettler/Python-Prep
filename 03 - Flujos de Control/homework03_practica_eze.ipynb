{
 "cells": [
  {
   "cell_type": "markdown",
   "metadata": {},
   "source": [
    "1) Crear una variable que contenga un elemento del conjunto de números enteros y luego imprimir por pantalla si es mayor o menor a cero"
   ]
  },
  {
   "cell_type": "code",
   "execution_count": 3,
   "metadata": {},
   "outputs": [
    {
     "name": "stdout",
     "output_type": "stream",
     "text": [
      "1\n"
     ]
    }
   ],
   "source": [
    "entero = 1\n",
    "\n",
    "if entero!=0:\n",
    "    print(entero)\n"
   ]
  },
  {
   "cell_type": "markdown",
   "metadata": {},
   "source": [
    "2) Crear dos variables y un condicional que informe si son del mismo tipo de dato"
   ]
  },
  {
   "cell_type": "code",
   "execution_count": 5,
   "metadata": {},
   "outputs": [
    {
     "name": "stdout",
     "output_type": "stream",
     "text": [
      "Las variables son del mismo tipo de dato.\n"
     ]
    }
   ],
   "source": [
    "var1=2\n",
    "var2=int('2')\n",
    "\n",
    "if type(var1)==type(var2):\n",
    "    print(\"Las variables son del mismo tipo de dato.\")"
   ]
  },
  {
   "cell_type": "markdown",
   "metadata": {},
   "source": [
    "3) Para los valores enteros del 1 al 20, imprimir por pantalla si es par o impar"
   ]
  },
  {
   "cell_type": "code",
   "execution_count": 11,
   "metadata": {},
   "outputs": [
    {
     "name": "stdout",
     "output_type": "stream",
     "text": [
      "1 es impar\n",
      "2 es par\n",
      "3 es impar\n",
      "4 es par\n",
      "5 es impar\n",
      "6 es par\n",
      "7 es impar\n",
      "8 es par\n",
      "9 es impar\n",
      "10 es par\n",
      "11 es impar\n",
      "12 es par\n",
      "13 es impar\n",
      "14 es par\n",
      "15 es impar\n",
      "16 es par\n",
      "17 es impar\n",
      "18 es par\n",
      "19 es impar\n",
      "20 es par\n"
     ]
    }
   ],
   "source": [
    "for i in range(1,21):\n",
    "    if i%2==0:\n",
    "        print(i, \"es par\")\n",
    "    else:\n",
    "        print(i, \"es impar\")"
   ]
  },
  {
   "cell_type": "markdown",
   "metadata": {},
   "source": [
    "4) En un ciclo for mostrar para los valores entre 0 y 5 el resultado de elevarlo a la potencia igual a 3"
   ]
  },
  {
   "cell_type": "code",
   "execution_count": 12,
   "metadata": {},
   "outputs": [
    {
     "name": "stdout",
     "output_type": "stream",
     "text": [
      "0 elevado a la potencia 3 es:  0\n",
      "1 elevado a la potencia 3 es:  1\n",
      "2 elevado a la potencia 3 es:  8\n",
      "3 elevado a la potencia 3 es:  27\n",
      "4 elevado a la potencia 3 es:  64\n",
      "5 elevado a la potencia 3 es:  125\n"
     ]
    }
   ],
   "source": [
    "for i in range(6):\n",
    "    print(i, \"elevado a la potencia 3 es: \", i**3)"
   ]
  },
  {
   "cell_type": "markdown",
   "metadata": {},
   "source": [
    "5) Crear una variable que contenga un número entero y realizar un ciclo for la misma cantidad de ciclos"
   ]
  },
  {
   "cell_type": "code",
   "execution_count": 1,
   "metadata": {},
   "outputs": [
    {
     "name": "stdout",
     "output_type": "stream",
     "text": [
      "0\n",
      "1\n",
      "2\n"
     ]
    }
   ],
   "source": [
    "var3 = 3\n",
    "\n",
    "for i in range(0,var3):\n",
    "    print(i)"
   ]
  },
  {
   "cell_type": "markdown",
   "metadata": {},
   "source": [
    "6) Utilizar un ciclo while para realizar el factorial de un número guardado en una variable, sólo si la variable contiene un número entero mayor a 0"
   ]
  },
  {
   "cell_type": "code",
   "execution_count": 6,
   "metadata": {},
   "outputs": [
    {
     "name": "stdout",
     "output_type": "stream",
     "text": [
      "El factorial de 3 es: 6\n"
     ]
    }
   ],
   "source": [
    "from math import factorial\n",
    "nro = 3\n",
    "\n",
    "while type(nro)==int and nro>0:\n",
    "    print(\"El factorial de\", nro, \"es:\", factorial(nro))\n",
    "    break\n"
   ]
  },
  {
   "cell_type": "markdown",
   "metadata": {},
   "source": [
    "7) Crear un ciclo for dentro de un ciclo while"
   ]
  },
  {
   "cell_type": "code",
   "execution_count": 9,
   "metadata": {},
   "outputs": [
    {
     "name": "stdout",
     "output_type": "stream",
     "text": [
      "Estamos en el ciclo 2 del while y en el 1 del for.\n",
      "Estamos en el ciclo 3 del while y en el 1 del for.\n",
      "Estamos en el ciclo 3 del while y en el 2 del for.\n",
      "Estamos en el ciclo 4 del while y en el 1 del for.\n",
      "Estamos en el ciclo 4 del while y en el 2 del for.\n",
      "Estamos en el ciclo 4 del while y en el 3 del for.\n"
     ]
    }
   ],
   "source": [
    "ciclo = 0\n",
    "\n",
    "while ciclo<4:\n",
    "    ciclo += 1\n",
    "\n",
    "    for i in range(1, ciclo):\n",
    "        print(\"Estamos en el ciclo\", ciclo, \"del while y en el\", i, \"del for.\")"
   ]
  },
  {
   "cell_type": "markdown",
   "metadata": {},
   "source": [
    "8) Crear un ciclo while dentro de un ciclo for"
   ]
  },
  {
   "cell_type": "code",
   "execution_count": 17,
   "metadata": {},
   "outputs": [
    {
     "name": "stdout",
     "output_type": "stream",
     "text": [
      "Estamos en el ciclo 1 del while y en el 1 del for.\n",
      "Estamos en el ciclo 2 del while y en el 1 del for.\n",
      "Estamos en el ciclo 3 del while y en el 1 del for.\n",
      "Estamos en el ciclo 4 del while y en el 1 del for.\n",
      "Estamos en el ciclo 1 del while y en el 2 del for.\n",
      "Estamos en el ciclo 2 del while y en el 2 del for.\n",
      "Estamos en el ciclo 3 del while y en el 2 del for.\n",
      "Estamos en el ciclo 4 del while y en el 2 del for.\n",
      "Estamos en el ciclo 1 del while y en el 3 del for.\n",
      "Estamos en el ciclo 2 del while y en el 3 del for.\n",
      "Estamos en el ciclo 3 del while y en el 3 del for.\n",
      "Estamos en el ciclo 4 del while y en el 3 del for.\n"
     ]
    }
   ],
   "source": [
    "for i in range(1, 4):\n",
    "    n = 1\n",
    "    while n<5:\n",
    "        print(\"Estamos en el ciclo\", n, \"del while y en el\", i, \"del for.\")\n",
    "        n = n + 1\n",
    "        \n"
   ]
  },
  {
   "cell_type": "markdown",
   "metadata": {},
   "source": [
    "9) Imprimir los números primos existentes entre 0 y 30"
   ]
  },
  {
   "cell_type": "code",
   "execution_count": 1,
   "metadata": {},
   "outputs": [
    {
     "name": "stdout",
     "output_type": "stream",
     "text": [
      "0\n",
      "1\n",
      "2\n",
      "3\n",
      "5\n",
      "7\n",
      "11\n",
      "13\n",
      "17\n",
      "19\n",
      "23\n",
      "29\n"
     ]
    }
   ],
   "source": [
    "tope_rango = 30\n",
    "n = 0\n",
    "primo = True\n",
    "\n",
    "while n<tope_rango:\n",
    "    for divisor in range(2, n):\n",
    "        if (n % divisor == 0):\n",
    "            primo=False\n",
    "    if primo==True:\n",
    "        print(n)\n",
    "    else:\n",
    "        primo=True\n",
    "    n += 1\n"
   ]
  },
  {
   "cell_type": "markdown",
   "metadata": {},
   "source": [
    "10) ¿Se puede mejorar el proceso del punto 9? Utilizar las sentencias break y/ó continue para tal fin"
   ]
  },
  {
   "cell_type": "code",
   "execution_count": 39,
   "metadata": {},
   "outputs": [
    {
     "name": "stdout",
     "output_type": "stream",
     "text": [
      "0\n",
      "1\n",
      "2\n",
      "3\n",
      "5\n",
      "7\n",
      "11\n",
      "13\n",
      "17\n",
      "19\n",
      "23\n",
      "29\n"
     ]
    }
   ],
   "source": [
    "tope_rango = 30\n",
    "n = 0\n",
    "primo = True\n",
    "\n",
    "while n<tope_rango:\n",
    "    for divisor in range(2, n):\n",
    "        if (n % divisor == 0):\n",
    "            primo=False\n",
    "            break\n",
    "    if primo==True:\n",
    "        print(n)\n",
    "    else:\n",
    "        primo=True\n",
    "    n += 1"
   ]
  },
  {
   "cell_type": "markdown",
   "metadata": {},
   "source": [
    "11) En los puntos 9 y 10, se diseño un código que encuentra números primos y además se lo optimizó. ¿Es posible saber en qué medida se optimizó?"
   ]
  },
  {
   "cell_type": "code",
   "execution_count": 42,
   "metadata": {},
   "outputs": [
    {
     "name": "stdout",
     "output_type": "stream",
     "text": [
      "0\n",
      "1\n",
      "2\n",
      "3\n",
      "5\n",
      "7\n",
      "11\n",
      "13\n",
      "17\n",
      "19\n",
      "23\n",
      "29\n",
      "Cantidad de ciclos sin brake: 378\n"
     ]
    }
   ],
   "source": [
    "ciclos_sin_brake = 0\n",
    "tope_rango = 30\n",
    "n = 0\n",
    "primo = True\n",
    "\n",
    "while n<tope_rango:\n",
    "    for divisor in range(2, n):\n",
    "        ciclos_sin_brake += 1\n",
    "        if (n % divisor == 0):\n",
    "            primo=False\n",
    "    if primo==True:\n",
    "        print(n)\n",
    "    else:\n",
    "        primo=True\n",
    "    n += 1\n",
    "\n",
    "print(\"Cantidad de ciclos sin brake:\", ciclos_sin_brake)"
   ]
  },
  {
   "cell_type": "code",
   "execution_count": 2,
   "metadata": {},
   "outputs": [
    {
     "name": "stdout",
     "output_type": "stream",
     "text": [
      "0\n",
      "1\n",
      "2\n",
      "3\n",
      "5\n",
      "7\n",
      "11\n",
      "13\n",
      "17\n",
      "19\n",
      "23\n",
      "29\n",
      "Cantidad de ciclos sin brake: 134\n"
     ]
    }
   ],
   "source": [
    "ciclos_con_brake = 0\n",
    "tope_rango = 30\n",
    "n = 0\n",
    "primo = True\n",
    "\n",
    "while n<tope_rango:\n",
    "    for divisor in range(2, n):\n",
    "        ciclos_con_brake += 1\n",
    "        if (n % divisor == 0):\n",
    "            primo=False\n",
    "            break\n",
    "    if primo==True:\n",
    "        print(n)\n",
    "    else:\n",
    "        primo=True\n",
    "    n += 1\n",
    "\n",
    "print(\"Cantidad de ciclos sin brake:\", ciclos_con_brake)"
   ]
  },
  {
   "cell_type": "markdown",
   "metadata": {},
   "source": [
    "13) Aplicando continue, armar un ciclo while que solo imprima los valores divisibles por 12, dentro del rango de números de 100 a 300"
   ]
  },
  {
   "cell_type": "code",
   "execution_count": 47,
   "metadata": {},
   "outputs": [
    {
     "name": "stdout",
     "output_type": "stream",
     "text": [
      "108 es divisible por 12.\n",
      "120 es divisible por 12.\n",
      "132 es divisible por 12.\n",
      "144 es divisible por 12.\n",
      "156 es divisible por 12.\n",
      "168 es divisible por 12.\n",
      "180 es divisible por 12.\n",
      "192 es divisible por 12.\n",
      "204 es divisible por 12.\n",
      "216 es divisible por 12.\n",
      "228 es divisible por 12.\n",
      "240 es divisible por 12.\n",
      "252 es divisible por 12.\n",
      "264 es divisible por 12.\n",
      "276 es divisible por 12.\n",
      "288 es divisible por 12.\n",
      "300 es divisible por 12.\n"
     ]
    }
   ],
   "source": [
    "n = 100\n",
    "tope_rango = 300\n",
    "\n",
    "while n<=tope_rango:\n",
    "    if n%12==0:\n",
    "        print(n, \"es divisible por 12.\")\n",
    "    n += 1\n",
    "    continue\n",
    "    \n"
   ]
  },
  {
   "cell_type": "markdown",
   "metadata": {},
   "source": [
    "15) Crear un ciclo while que encuentre dentro del rango de 100 a 300 el primer número divisible por 3 y además múltiplo de 6"
   ]
  },
  {
   "cell_type": "code",
   "execution_count": 10,
   "metadata": {},
   "outputs": [
    {
     "name": "stdout",
     "output_type": "stream",
     "text": [
      "102 es el primer numero divisible por 3 y multiplo de 6 dentro del rango de 100 a 300.\n"
     ]
    }
   ],
   "source": [
    "n = 100\n",
    "\n",
    "while n < 300:\n",
    "    if n % 6 == 0:\n",
    "        print(n, \"es el primer numero divisible por 3 y multiplo de 6 dentro del rango de 100 a 300.\")\n",
    "        break\n",
    "    else:\n",
    "        n += 1"
   ]
  }
 ],
 "metadata": {
  "kernelspec": {
   "display_name": "Python 3.10.5 64-bit",
   "language": "python",
   "name": "python3"
  },
  "language_info": {
   "codemirror_mode": {
    "name": "ipython",
    "version": 3
   },
   "file_extension": ".py",
   "mimetype": "text/x-python",
   "name": "python",
   "nbconvert_exporter": "python",
   "pygments_lexer": "ipython3",
   "version": "3.10.5"
  },
  "orig_nbformat": 4,
  "vscode": {
   "interpreter": {
    "hash": "8fa1147434c5c7645ff453cf5a32d0b8543d33e4fc0361dcda3b4b14f6f3f9ac"
   }
  }
 },
 "nbformat": 4,
 "nbformat_minor": 2
}
