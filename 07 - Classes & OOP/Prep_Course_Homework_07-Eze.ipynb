{
 "cells": [
  {
   "cell_type": "markdown",
   "metadata": {},
   "source": [
    "1) Crear la clase vehículo que contenga los atributos:<br>\n",
    "Color<br>\n",
    "Si es moto, auto, camioneta ó camión<br>\n",
    "Cilindrada del motor"
   ]
  },
  {
   "cell_type": "code",
   "execution_count": 12,
   "metadata": {},
   "outputs": [],
   "source": [
    "class Vehiculo():\n",
    "    def __init__(self, color, tipo, cilindrada):\n",
    "        self.color = color\n",
    "        self.tipo = tipo\n",
    "        self.cilindrada = cilindrada"
   ]
  },
  {
   "cell_type": "markdown",
   "metadata": {},
   "source": [
    "2) A la clase Vehiculo creada en el punto 1, agregar los siguientes métodos:<br>\n",
    "Acelerar<br>\n",
    "Frenar<br>\n",
    "Doblar<br>"
   ]
  },
  {
   "cell_type": "code",
   "execution_count": 13,
   "metadata": {},
   "outputs": [],
   "source": [
    "class Vehiculo():\n",
    "    def __init__(self, color, tipo, cilindrada):\n",
    "        self.color = color\n",
    "        self.tipo = tipo\n",
    "        self.cilindrada = cilindrada\n",
    "        self.velocidad = 0\n",
    "        self.direccion = 0\n",
    "\n",
    "    def acelerar(self, velocidad):\n",
    "        self.velocidad += velocidad\n",
    "    \n",
    "    def frenar(self, velocidad):\n",
    "        self.velocidad -= velocidad\n",
    "    \n",
    "    def doblar(self, grados):\n",
    "        self.direccion += grados\n",
    "    "
   ]
  },
  {
   "cell_type": "markdown",
   "metadata": {},
   "source": [
    "3) Instanciar 3 objetos de la clase vehículo y ejecutar sus métodos, probar luego el resultado"
   ]
  },
  {
   "cell_type": "code",
   "execution_count": 16,
   "metadata": {},
   "outputs": [],
   "source": [
    "moto1 = Vehiculo('Rojo', 'Moto', 1)\n",
    "moto1.acelerar(40)\n",
    "auto1 = Vehiculo('Azul', 'Auto', 2)\n",
    "auto1.frenar(30)\n",
    "camioneta1 = Vehiculo('Blanca', 'Camioneta', 3)\n",
    "camioneta1.doblar(20)"
   ]
  },
  {
   "cell_type": "markdown",
   "metadata": {},
   "source": [
    "4) Agregar a la clase Vehiculo, un método que muestre su estado, es decir, a que velocidad se encuentra y su dirección. Y otro método que muestre color, tipo y cilindrada"
   ]
  },
  {
   "cell_type": "code",
   "execution_count": 21,
   "metadata": {},
   "outputs": [
    {
     "name": "stdout",
     "output_type": "stream",
     "text": [
      "La velocidad del vehiculo es 30 y la dirección es 45\n"
     ]
    }
   ],
   "source": [
    "class Vehiculo():\n",
    "    def __init__(self, color, tipo, cilindrada):\n",
    "        self.color = color\n",
    "        self.tipo = tipo\n",
    "        self.cilindrada = cilindrada\n",
    "        self.velocidad = 0\n",
    "        self.direccion = 0\n",
    "\n",
    "    def acelerar(self, velocidad):\n",
    "        self.velocidad += velocidad\n",
    "    \n",
    "    def frenar(self, velocidad):\n",
    "        self.velocidad -= velocidad\n",
    "    \n",
    "    def doblar(self, grados):\n",
    "        self.direccion += grados\n",
    "    \n",
    "    def estado(self):\n",
    "        print(\"La velocidad del vehiculo es\", self.velocidad, \"y la dirección es\", self.direccion)\n",
    "    \n",
    "\n",
    "moto1 = Vehiculo('Rojo', 'Moto', 1)\n",
    "moto1.acelerar(40)\n",
    "moto1.acelerar(20)\n",
    "moto1.frenar(30)\n",
    "moto1.doblar(20)\n",
    "moto1.doblar(25)\n",
    "moto1.estado()  "
   ]
  },
  {
   "cell_type": "markdown",
   "metadata": {},
   "source": [
    "5) Crear una clase que permita utilizar las funciones creadas en la práctica del módulo 6<br>\n",
    "Verificar Primo<br>\n",
    "Valor modal<br>\n",
    "Conversión grados<br>\n",
    "Factorial<br>"
   ]
  },
  {
   "cell_type": "code",
   "execution_count": 37,
   "metadata": {},
   "outputs": [],
   "source": [
    "class calculos_math():      #Creacion de la clase\n",
    "    def __init__(self):     #Creacion del constructor, da estado inicial a los objetos de una clase.\n",
    "        pass                    #Propiedades iniciales de la clase.\n",
    "\n",
    "#---------------------------------------------------------------------\n",
    "    def verificar_primo(self, parametro):\n",
    "        lista_nros_primos = []\n",
    "    \n",
    "        for i in range (0, len(parametro)):\n",
    "        #Iteramos los elementos del parametro.\n",
    "\n",
    "            cont_divisibles = 0\n",
    "\n",
    "            for n in range (2, parametro[i]-1):\n",
    "            #Comparamos si existen divisibles dentro del rango 2 a parametro-1\n",
    "                if parametro[i] % n == 0:\n",
    "                    cont_divisibles += 1\n",
    "                \n",
    "            if cont_divisibles == 0:\n",
    "                lista_nros_primos.append(parametro[i])\n",
    "\n",
    "        print(\"Los numeros primos de la lista son:\", lista_nros_primos)\n",
    "\n",
    "\n",
    "#---------------------------------------------------------------------    \n",
    "    def valor_modal(self, lista, orden):  \n",
    "        numero = 0\n",
    "        repeticiones = 0\n",
    "    \n",
    "        for i in lista:\n",
    "            repeticiones_nuevas = 0\n",
    "\n",
    "            for n in lista:\n",
    "                if i == n:\n",
    "                    repeticiones_nuevas += 1\n",
    "\n",
    "            if repeticiones_nuevas > repeticiones:\n",
    "                repeticiones = repeticiones_nuevas\n",
    "                numero = i\n",
    "\n",
    "            elif repeticiones_nuevas == repeticiones:\n",
    "                repeticiones = repeticiones_nuevas\n",
    "                \n",
    "                if orden == 'Menor':\n",
    "                    minimo = min(numero, i)\n",
    "                    numero = minimo\n",
    "                elif orden == 'Mayor':\n",
    "                    maximo = max(numero, i)\n",
    "                    numero = maximo\n",
    "                else:\n",
    "                    continue\n",
    "\n",
    "            else:\n",
    "                continue   \n",
    "\n",
    "        print(\"El numero\", numero, \"fue el más repetido de la lista. Se repitió\", repeticiones, \"veces.\")\n",
    "\n",
    "#---------------------------------------------------------------------\n",
    "    def conversion_grados(self, valor, origen, destino):\n",
    "        global resultado\n",
    "    \n",
    "        def c_a_f(valor):\n",
    "            resultado = round((valor * 9/5) + 32, 2)\n",
    "            print(valor, \"°Celsius son\", resultado, \"°Farenheit\")\n",
    "\n",
    "        def c_a_k(valor):\n",
    "            resultado = round(valor + 273.15, 2)\n",
    "            print(valor, \"°Celsius son\", resultado, \"°Kelvin\")\n",
    "\n",
    "        def f_a_c(valor):\n",
    "            resultado = round((valor * (5/9)) - (160/9), 2)\n",
    "            print(valor, \"°Farenheit son\", resultado, \"°Celsius\")\n",
    "\n",
    "        def f_a_k(valor):\n",
    "            resultado = round((valor * (5/9)) + 255.37, 2)\n",
    "            print(valor, \"°Farenheit son\", resultado, \"°Kelvin\")\n",
    "\n",
    "        def k_a_c(valor):\n",
    "            resultado = round(valor - 273.15, 2)\n",
    "            print(valor, \"°Kelvin son\", resultado, \"°Celsius\")\n",
    "\n",
    "        def k_a_f(valor):\n",
    "            resultado = round((valor * (9/5)) - 459.67, 2)\n",
    "            print(valor, \"°Kelvin son\", resultado, \"°Farenheit\")\n",
    "    \n",
    "        if origen == 'C':\n",
    "            if destino == 'F':\n",
    "                c_a_f(valor)\n",
    "            elif destino == 'K':\n",
    "                c_a_k(valor)\n",
    "            else:\n",
    "                print(\"Destino incorrecto.\")\n",
    "\n",
    "        elif origen == 'F':\n",
    "            if destino == 'C':\n",
    "                f_a_c(valor)\n",
    "            elif destino == 'K':\n",
    "                f_a_k(valor)\n",
    "            else:\n",
    "                print(\"Destino incorrecto.\")\n",
    "    \n",
    "        elif origen == 'K':\n",
    "            if destino == 'C':\n",
    "                k_a_c(valor)\n",
    "            elif destino == 'F':\n",
    "                k_a_f(valor)\n",
    "            else:\n",
    "                print(\"Destino incorrecto.\")\n",
    "\n",
    "        else:\n",
    "            print(\"Origen incorrecto.\")\n",
    "\n",
    "#---------------------------------------------------------------------\n",
    "    def factorial(self, numero):\n",
    "        if type(numero) != int:\n",
    "            return \"Error. Por favor, ingrese un número entero.\"\n",
    "        elif numero <= 0:\n",
    "            return \"Error. Por favor, ingrese un número positivo.\"\n",
    "        else:\n",
    "            resultado = 1\n",
    "        \n",
    "            for i in range (1, numero+1):\n",
    "                resultado = resultado * i\n",
    "        \n",
    "        print(\"El factorial del numero\", numero, \"es igual a\", resultado)"
   ]
  },
  {
   "cell_type": "markdown",
   "metadata": {},
   "source": [
    "6) Probar las funciones incorporadas en la clase del punto 5"
   ]
  },
  {
   "cell_type": "code",
   "execution_count": 38,
   "metadata": {},
   "outputs": [
    {
     "name": "stdout",
     "output_type": "stream",
     "text": [
      "Los numeros primos de la lista son: [1, 2, 3, 5, 7, 11, 13, 17, 19]\n",
      "El numero 8 fue el más repetido de la lista. Se repitió 3 veces.\n",
      "1 °Celsius son 33.8 °Farenheit\n",
      "El factorial del numero 3 es igual a 6\n"
     ]
    }
   ],
   "source": [
    "calculo1 = calculos_math()\n",
    "calculo1.verificar_primo([1,2,3,4,5,6,7,8,9,10,11,12,13,14,15,16,17,18,19,20])\n",
    "calculo1.valor_modal([1,2,3,4,4,4,5,6,8,7,7,8,7,8,9,9,], 'Mayor')\n",
    "calculo1.conversion_grados(1,'C','F')\n",
    "calculo1.factorial(3)\n"
   ]
  },
  {
   "cell_type": "markdown",
   "metadata": {},
   "source": [
    "7) Es necesario que la clase creada en el punto 5 contenga una lista, sobre la cual se apliquen las funciones incorporadas"
   ]
  },
  {
   "cell_type": "code",
   "execution_count": null,
   "metadata": {},
   "outputs": [],
   "source": []
  },
  {
   "cell_type": "markdown",
   "metadata": {},
   "source": [
    "8) Crear un archivo .py aparte y ubicar allí la clase generada en el punto anterior. Luego realizar la importación del módulo y probar alguna de sus funciones"
   ]
  },
  {
   "cell_type": "code",
   "execution_count": 39,
   "metadata": {},
   "outputs": [
    {
     "name": "stdout",
     "output_type": "stream",
     "text": [
      "1 °Celsius son 33.8 °Farenheit\n",
      "El factorial del numero 3 es igual a 6\n"
     ]
    }
   ],
   "source": [
    "import calculos_math\n",
    "\n",
    "calculo1.conversion_grados(1,'C','F')\n",
    "calculo1.factorial(3)\n"
   ]
  }
 ],
 "metadata": {
  "kernelspec": {
   "display_name": "Python 3.10.5 64-bit",
   "language": "python",
   "name": "python3"
  },
  "language_info": {
   "codemirror_mode": {
    "name": "ipython",
    "version": 3
   },
   "file_extension": ".py",
   "mimetype": "text/x-python",
   "name": "python",
   "nbconvert_exporter": "python",
   "pygments_lexer": "ipython3",
   "version": "3.10.5"
  },
  "orig_nbformat": 4,
  "vscode": {
   "interpreter": {
    "hash": "8fa1147434c5c7645ff453cf5a32d0b8543d33e4fc0361dcda3b4b14f6f3f9ac"
   }
  }
 },
 "nbformat": 4,
 "nbformat_minor": 2
}
