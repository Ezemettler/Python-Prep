{
 "cells": [
  {
   "cell_type": "code",
   "execution_count": null,
   "metadata": {},
   "outputs": [],
   "source": []
  },
  {
   "cell_type": "markdown",
   "metadata": {},
   "source": [
    "1) Crear una función que reciba un número como parámetro y devuelva si True si es primo y False si no lo es"
   ]
  },
  {
   "cell_type": "code",
   "execution_count": 1,
   "metadata": {},
   "outputs": [
    {
     "data": {
      "text/plain": [
       "True"
      ]
     },
     "execution_count": 1,
     "metadata": {},
     "output_type": "execute_result"
    }
   ],
   "source": [
    "#Nro primo son aquellos que son divisibles solamente por 1 y si mismo.\n",
    "#Todos los numeros son divisibles por 1 y si mismo.\n",
    "#Lo que tenemos que buscar es si son divisibles por un nro > 1 y < a el nro mismo.\n",
    "\n",
    "def numero_primo(parametro):\n",
    "    primo = True\n",
    "\n",
    "    for i in range (2, parametro):\n",
    "        if parametro % i == 0:\n",
    "            primo = False\n",
    "    \n",
    "    return primo\n",
    "\n",
    "numero_primo(7)"
   ]
  },
  {
   "cell_type": "markdown",
   "metadata": {},
   "source": [
    "2) Utilizando la función del punto 1, realizar otra función que reciba de parámetro una lista de números y devuelva sólo aquellos que son primos en otra lista"
   ]
  },
  {
   "cell_type": "code",
   "execution_count": null,
   "metadata": {},
   "outputs": [
    {
     "data": {
      "text/plain": [
       "[1, 2, 3, 5, 7, 11, 13, 17, 19]"
      ]
     },
     "metadata": {},
     "output_type": "display_data"
    }
   ],
   "source": [
    "#Al recibir una lista, tenemos que iterar y comparar cada elemento por separado.\n",
    "#A esos elementos, debemos comprobar si son divisibles por nro > 1 y < a el mismo.\n",
    "#Si no cumplen con la condicion anterior, se guardan en una nueva lista.\n",
    "\n",
    "\n",
    "def lista_primo(parametro):     \n",
    "    lista_nros_primos = []\n",
    "    \n",
    "    for i in range (0, len(parametro)):\n",
    "    #Iteramos los elementos del parametro.\n",
    "\n",
    "        cont_divisibles = 0\n",
    "\n",
    "        for n in range (2, parametro[i]-1):\n",
    "        #Comparamos si existen divisibles dentro del rango 2 a parametro-1\n",
    "            if parametro[i] % n == 0:\n",
    "                cont_divisibles += 1\n",
    "            \n",
    "        if cont_divisibles == 0:\n",
    "            lista_nros_primos.append(parametro[i])\n",
    "\n",
    "    return lista_nros_primos\n",
    "\n",
    "lista = [1,2,3,4,5,6,7,8,9,10,11,12,13,14,15,16,17,18,19,20]\n",
    "lista_primo(lista)"
   ]
  },
  {
   "cell_type": "markdown",
   "metadata": {},
   "source": [
    "3) Crear una función que al recibir una lista de números, devuelva el que más se repite y cuántas veces lo hace. Si hay más de un \"más repetido\", que devuelva cualquiera"
   ]
  },
  {
   "cell_type": "code",
   "execution_count": null,
   "metadata": {},
   "outputs": [
    {
     "name": "stdout",
     "output_type": "stream",
     "text": [
      "El numero 7 fue el más repetido de la lista. \n",
      "Se repitió 4 veces.\n"
     ]
    }
   ],
   "source": [
    "#Recibe una lista con algunos elementos repetidos.\n",
    "#1°: Debemos tomar de a 1 elemento de la lista, y compararlo con cada uno del resto de los elementos.\n",
    "#2°: Cada vez que el elemento sea igual a otro, se contabiliza.\n",
    "#3°: Una vez que recorrió todos los elementos, comparar con el más repetido hasta el momento, para saber si es mayor o no.\n",
    "#4°: Si es mayor (tuvo más repeticiones), pasa este ultimo a ser el mas repetido. Sino, queda igual.\n",
    "\n",
    "def nro_repetido(lista):\n",
    "    numero = 0\n",
    "    repeticiones = 0\n",
    "\n",
    "    for elemento_acomparar in lista:\n",
    "        repeticiones_nuevas = 0\n",
    "\n",
    "        for resto_elementos in lista:\n",
    "            if elemento_acomparar == resto_elementos:\n",
    "                repeticiones_nuevas += 1\n",
    "\n",
    "        if repeticiones_nuevas > repeticiones:\n",
    "            repeticiones = repeticiones_nuevas\n",
    "            numero = elemento_acomparar\n",
    "           \n",
    "\n",
    "    print(\"El numero\", numero, \"fue el más repetido de la lista. \\nSe repitió\", repeticiones, \"veces.\")\n",
    "\n",
    "lista = [1,2,3,3,3,4,5,5,6,7,7,7,7]\n",
    "nro_repetido(lista)"
   ]
  },
  {
   "cell_type": "markdown",
   "metadata": {},
   "source": [
    "4) A la función del punto 3, agregar un parámetro más, que permita elegir si se requiere el menor o el mayor de los mas repetidos."
   ]
  },
  {
   "cell_type": "code",
   "execution_count": null,
   "metadata": {},
   "outputs": [
    {
     "name": "stdout",
     "output_type": "stream",
     "text": [
      "El numero 1 fue el más repetido de la lista. \n",
      "Se repitió 3 veces.\n"
     ]
    }
   ],
   "source": [
    "#Recibe una lista con algunos elementos repetidos.\n",
    "#1°: Debemos tomar de a 1 elemento de la lista, y compararlo con cada uno del resto de los elementos.\n",
    "#2°: Cada vez que el elemento sea igual a otro, se contabiliza.\n",
    "#3°: Una vez que recorrió todos los elementos, comparar con el más repetido hasta el momento, para saber si es mayor o no.\n",
    "#4°: Si es mayor (tuvo más repeticiones), pasa este ultimo a ser el mas repetido. \n",
    "#5°: Si es igual (tuvo las misma cant de repeticiones), preguntar si el elem es menor o mayor, segun el 2do parametro.\n",
    "#6°: Guardar el elemento que cumpla con lo pasado en el segundo parametro.\n",
    "\n",
    "def nro_repetido(lista, orden):\n",
    "    numero = 0\n",
    "    repeticiones = 0\n",
    "    \n",
    "    for i in lista:\n",
    "        repeticiones_nuevas = 0\n",
    "\n",
    "        for n in lista:\n",
    "            if i == n:\n",
    "                repeticiones_nuevas += 1\n",
    "\n",
    "        if repeticiones_nuevas > repeticiones:\n",
    "            repeticiones = repeticiones_nuevas\n",
    "            numero = i\n",
    "\n",
    "        elif repeticiones_nuevas == repeticiones:\n",
    "            repeticiones = repeticiones_nuevas\n",
    "            \n",
    "            if orden == 'Menor':\n",
    "                minimo = min(numero, i)\n",
    "                numero = minimo\n",
    "            elif orden == 'Mayor':\n",
    "                maximo = max(numero, i)\n",
    "                numero = maximo\n",
    "            else:\n",
    "                continue\n",
    "\n",
    "        else:\n",
    "            continue   \n",
    "\n",
    "    print(\"El numero\", numero, \"fue el más repetido de la lista. \\nSe repitió\", repeticiones, \"veces.\")\n",
    "\n",
    "\n",
    "nro_repetido([1,1,1,2,3,3,3,4,4,5,5,6,7,7,7], 'Menor')"
   ]
  },
  {
   "cell_type": "markdown",
   "metadata": {},
   "source": [
    "5) Crear una función que convierta entre grados Celsius, Farenheit y Kelvin<br>\n",
    "Fórmula 1\t: (°C × 9/5) + 32 = °F<br>\n",
    "Fórmula 2\t: °C + 273.15 = °K<br>\n",
    "Debe recibir 3 parámetros: el valor, la medida de orígen y la medida de destino"
   ]
  },
  {
   "cell_type": "code",
   "execution_count": 3,
   "metadata": {},
   "outputs": [
    {
     "name": "stdout",
     "output_type": "stream",
     "text": [
      "5 °Kelvin son -450.67 °Farenheit\n"
     ]
    }
   ],
   "source": [
    "#1°: Definir diferentes funciones dentro de la general, con las 6 variantes de transformacion.\n",
    "#2°: Preguntar cual es la medida de origen y destino. En base a eso, elegimos la formula (o funcion secundaria).\n",
    "#3°: Pasarle por parametro el valor, y la funcion secundaria retorna el nuevo valor calculado.\n",
    "\n",
    "\n",
    "def conversion_grados(valor, origen, destino):\n",
    "    global resultado\n",
    "    \n",
    "    def c_a_f(valor):\n",
    "        resultado = round((valor * 9/5) + 32, 2)\n",
    "        print(valor, \"°Celsius son\", resultado, \"°Farenheit\")\n",
    "\n",
    "    def c_a_k(valor):\n",
    "        resultado = round(valor + 273.15, 2)\n",
    "        print(valor, \"°Celsius son\", resultado, \"°Kelvin\")\n",
    "\n",
    "    def f_a_c(valor):\n",
    "        resultado = round((valor * (5/9)) - (160/9), 2)\n",
    "        print(valor, \"°Farenheit son\", resultado, \"°Celsius\")\n",
    "\n",
    "    def f_a_k(valor):\n",
    "        resultado = round((valor * (5/9)) + 255.37, 2)\n",
    "        print(valor, \"°Farenheit son\", resultado, \"°Kelvin\")\n",
    "\n",
    "    def k_a_c(valor):\n",
    "        resultado = round(valor - 273.15, 2)\n",
    "        print(valor, \"°Kelvin son\", resultado, \"°Celsius\")\n",
    "\n",
    "    def k_a_f(valor):\n",
    "        resultado = round((valor * (9/5)) - 459.67, 2)\n",
    "        print(valor, \"°Kelvin son\", resultado, \"°Farenheit\")\n",
    "    \n",
    "    if origen == 'C':\n",
    "        if destino == 'F':\n",
    "            c_a_f(valor)\n",
    "        elif destino == 'K':\n",
    "            c_a_k(valor)\n",
    "        else:\n",
    "            print(\"Destino incorrecto.\")\n",
    "\n",
    "    elif origen == 'F':\n",
    "        if destino == 'C':\n",
    "            f_a_c(valor)\n",
    "        elif destino == 'K':\n",
    "            f_a_k(valor)\n",
    "        else:\n",
    "            print(\"Destino incorrecto.\")\n",
    "    \n",
    "    elif origen == 'K':\n",
    "        if destino == 'C':\n",
    "            k_a_c(valor)\n",
    "        elif destino == 'F':\n",
    "            k_a_f(valor)\n",
    "        else:\n",
    "            print(\"Destino incorrecto.\")\n",
    "\n",
    "    else:\n",
    "        print(\"Origen incorrecto.\")\n",
    "\n",
    "conversion_grados(5,'K','F')\n"
   ]
  },
  {
   "cell_type": "markdown",
   "metadata": {},
   "source": [
    "6) Iterando una lista con los tres valores posibles de temperatura que recibe la función del punto 5, hacer un print para cada combinación de los mismos:"
   ]
  },
  {
   "cell_type": "code",
   "execution_count": 4,
   "metadata": {},
   "outputs": [
    {
     "name": "stdout",
     "output_type": "stream",
     "text": [
      "1 °Celsius son 33.8 °Farenheit\n",
      "1 °Celsius son 274.15 °Kelvin\n",
      "1 °Farenheit son -17.22 °Celsius\n",
      "1 °Farenheit son 255.93 °Kelvin\n",
      "1 °Kelvin son -272.15 °Celsius\n",
      "1 °Kelvin son -457.87 °Farenheit\n"
     ]
    }
   ],
   "source": [
    "lista = ['C','F','K']\n",
    "\n",
    "for origen in lista:\n",
    "    for destino in lista:\n",
    "\n",
    "        if origen == destino:\n",
    "            continue\n",
    "        else:\n",
    "            conversion_grados(1, origen, destino)"
   ]
  },
  {
   "cell_type": "markdown",
   "metadata": {},
   "source": [
    "7) Armar una función que devuelva el factorial de un número. Tener en cuenta que el usuario puede equivocarse y enviar de parámetro un número no entero o negativo"
   ]
  },
  {
   "cell_type": "code",
   "execution_count": 33,
   "metadata": {},
   "outputs": [
    {
     "name": "stdout",
     "output_type": "stream",
     "text": [
      "362880\n",
      "Error. Por favor, ingrese un número entero.\n",
      "Error. Por favor, ingrese un número positivo.\n",
      "Error. Por favor, ingrese un número positivo.\n"
     ]
    }
   ],
   "source": [
    "def factorial(numero):\n",
    "    \n",
    "    if type(numero) != int:\n",
    "        return \"Error. Por favor, ingrese un número entero.\"\n",
    "    elif numero <= 0:\n",
    "        return \"Error. Por favor, ingrese un número positivo.\"\n",
    "    else:\n",
    "        resultado = 1\n",
    "        for i in range (1, numero+1):\n",
    "            resultado = resultado * i\n",
    "        \n",
    "        return resultado\n",
    "\n",
    "print(factorial(9))\n",
    "print(factorial('hola'))\n",
    "print(factorial(0))\n",
    "print(factorial(-3))\n"
   ]
  }
 ],
 "metadata": {
  "kernelspec": {
   "display_name": "Python 3.10.5 64-bit",
   "language": "python",
   "name": "python3"
  },
  "language_info": {
   "codemirror_mode": {
    "name": "ipython",
    "version": 3
   },
   "file_extension": ".py",
   "mimetype": "text/x-python",
   "name": "python",
   "nbconvert_exporter": "python",
   "pygments_lexer": "ipython3",
   "version": "3.10.5"
  },
  "orig_nbformat": 4,
  "vscode": {
   "interpreter": {
    "hash": "8fa1147434c5c7645ff453cf5a32d0b8543d33e4fc0361dcda3b4b14f6f3f9ac"
   }
  }
 },
 "nbformat": 4,
 "nbformat_minor": 2
}
