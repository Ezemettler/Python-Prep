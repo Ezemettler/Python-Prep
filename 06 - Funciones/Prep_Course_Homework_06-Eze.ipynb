{
 "cells": [
  {
   "cell_type": "markdown",
   "metadata": {},
   "source": [
    "1) Crear una función que reciba un número como parámetro y devuelva si True si es primo y False si no lo es"
   ]
  },
  {
   "cell_type": "code",
   "execution_count": 40,
   "metadata": {},
   "outputs": [
    {
     "data": {
      "text/plain": [
       "False"
      ]
     },
     "execution_count": 40,
     "metadata": {},
     "output_type": "execute_result"
    }
   ],
   "source": [
    "#Nro primo son aquellos que son divisibles solamente por 1 y si mismo.\n",
    "#Todos los numeros son divisibles por 1 y si mismo.\n",
    "#Lo que tenemos que buscar es si son divisibles por un nro > 1 y < a el nro mismo.\n",
    "\n",
    "def numero_primo(parametro):\n",
    "    primo = True\n",
    "\n",
    "    for i in range (2, parametro):\n",
    "        if parametro % i == 0:\n",
    "            primo = False\n",
    "    \n",
    "    return primo\n",
    "\n",
    "numero_primo(20)\n",
    "\n"
   ]
  },
  {
   "cell_type": "markdown",
   "metadata": {},
   "source": [
    "2) Utilizando la función del punto 1, realizar otra función que reciba de parámetro una lista de números y devuelva sólo aquellos que son primos en otra lista"
   ]
  },
  {
   "cell_type": "code",
   "execution_count": 53,
   "metadata": {},
   "outputs": [
    {
     "data": {
      "text/plain": [
       "[1, 2, 3, 5, 7, 11, 13, 17, 19]"
      ]
     },
     "execution_count": 53,
     "metadata": {},
     "output_type": "execute_result"
    }
   ],
   "source": [
    "#Al recibir una lista, tenemos que iterar y comparar cada elemento por separado.\n",
    "#A esos elementos, debemos comprobar si son divisibles por nro > 1 y < a el mismo.\n",
    "#Si no cumplen con la condicion anterior, se guardan en una nueva lista.\n",
    "\n",
    "\n",
    "def lista_primo(parametro):     \n",
    "    lista_nros_primos = []\n",
    "    \n",
    "    for i in range (0, len(parametro)):\n",
    "    #Iteramos los elementos del parametro.\n",
    "\n",
    "        cont_divisibles = 0\n",
    "\n",
    "        for n in range (2, parametro[i]-1):\n",
    "        #Comparamos si existen divisibles dentro del rango 2 a parametro-1\n",
    "            if parametro[i] % n == 0:\n",
    "                cont_divisibles += 1\n",
    "            \n",
    "        if cont_divisibles == 0:\n",
    "            lista_nros_primos.append(parametro[i])\n",
    "\n",
    "    return lista_nros_primos\n",
    "\n",
    "lista = [1,2,3,4,5,6,7,8,9,10,11,12,13,14,15,16,17,18,19,20]\n",
    "lista_primo(lista)\n",
    "  "
   ]
  }
 ],
 "metadata": {
  "kernelspec": {
   "display_name": "Python 3.10.5 64-bit",
   "language": "python",
   "name": "python3"
  },
  "language_info": {
   "codemirror_mode": {
    "name": "ipython",
    "version": 3
   },
   "file_extension": ".py",
   "mimetype": "text/x-python",
   "name": "python",
   "nbconvert_exporter": "python",
   "pygments_lexer": "ipython3",
   "version": "3.10.5"
  },
  "orig_nbformat": 4,
  "vscode": {
   "interpreter": {
    "hash": "8fa1147434c5c7645ff453cf5a32d0b8543d33e4fc0361dcda3b4b14f6f3f9ac"
   }
  }
 },
 "nbformat": 4,
 "nbformat_minor": 2
}
